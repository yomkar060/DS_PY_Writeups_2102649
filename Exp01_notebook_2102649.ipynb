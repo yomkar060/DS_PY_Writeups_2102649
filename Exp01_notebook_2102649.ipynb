{
  "nbformat": 4,
  "nbformat_minor": 0,
  "metadata": {
    "colab": {
      "provenance": []
    },
    "kernelspec": {
      "name": "python3",
      "display_name": "Python 3"
    },
    "language_info": {
      "name": "python"
    }
  },
  "cells": [
    {
      "cell_type": "markdown",
      "source": [
        "**Experiment No :** 01\n",
        "\n",
        "**Aim :** Learn basics of Numpy library for storing and efficiently processing any external data into python execution pipeline.\n",
        "\n",
        "**Theory :**  **NumPy** (short for Numerical Python) provides an efficient interface to store and operate on dense data buffers. In some ways, *NumPy arrays* are like Python's built-in *list type*, but NumPy arrays provide much more *efficient storage* and *data operations* as the arrays grow larger in size. NumPy arrays form the core of nearly the entire ecosystem of data science tools in Python\n",
        "\n",
        "NumPy is a Python library used for working with arrays. It also has functions for working in domain of linear algebra, fourier transform, and matrices. NumPy was created in 2005 by Travis Oliphant. It is an open source project and you can use it freely.\n",
        "\n",
        "In Python we have lists that serve the purpose of arrays, but they are slow to process. NumPy aims to provide an array object that is up to 50x faster than traditional Python lists. The array object in NumPy is called *ndarray*, it provides a lot of supporting functions that make working with *ndarray* very easy.\n",
        "Arrays are very frequently used in data science, where speed and resources are very important.\n",
        "\n",
        "NumPy arrays are stored at one continuous place in memory unlike lists, so processes can access and manipulate them very efficiently. This behavior is called locality of reference in computer science. This is the main reason why NumPy is faster than lists. Also it is optimized to work with latest CPU architectures.\n",
        "\n"
      ],
      "metadata": {
        "id": "eTOpwleUjhEc"
      }
    },
    {
      "cell_type": "markdown",
      "source": [
        "**Working :**"
      ],
      "metadata": {
        "id": "wXeSkgt6EAur"
      }
    },
    {
      "cell_type": "code",
      "execution_count": null,
      "metadata": {
        "id": "aci_dNppq6Dm",
        "colab": {
          "base_uri": "https://localhost:8080/",
          "height": 35
        },
        "outputId": "b7b433be-89dd-49e5-8717-1e64ce0adf67"
      },
      "outputs": [
        {
          "output_type": "execute_result",
          "data": {
            "text/plain": [
              "'1.21.6'"
            ],
            "application/vnd.google.colaboratory.intrinsic+json": {
              "type": "string"
            }
          },
          "metadata": {},
          "execution_count": 95
        }
      ],
      "source": [
        "import numpy\n",
        "numpy.__version__"
      ]
    },
    {
      "cell_type": "markdown",
      "source": [
        "**A Python List Is More Than Just a List**\n",
        "\n",
        "Let's consider now what happens when we use a Python data structure that holds many Python objects. The standard mutable multi-element container in Python is the list. We can create a list of integers as follows:"
      ],
      "metadata": {
        "id": "o8DgaYQBuiz8"
      }
    },
    {
      "cell_type": "code",
      "source": [
        "L = list(range(10))\n",
        "L"
      ],
      "metadata": {
        "colab": {
          "base_uri": "https://localhost:8080/"
        },
        "id": "0misdp5Luo8h",
        "outputId": "9f0fb578-d14c-4eff-c1ab-af7cf03f8e81"
      },
      "execution_count": null,
      "outputs": [
        {
          "output_type": "execute_result",
          "data": {
            "text/plain": [
              "[0, 1, 2, 3, 4, 5, 6, 7, 8, 9]"
            ]
          },
          "metadata": {},
          "execution_count": 96
        }
      ]
    },
    {
      "cell_type": "code",
      "source": [
        "type(L[0])"
      ],
      "metadata": {
        "colab": {
          "base_uri": "https://localhost:8080/"
        },
        "id": "nEY3A3fKur-v",
        "outputId": "0a3603be-d8d4-4444-94e6-ad5137353765"
      },
      "execution_count": null,
      "outputs": [
        {
          "output_type": "execute_result",
          "data": {
            "text/plain": [
              "int"
            ]
          },
          "metadata": {},
          "execution_count": 97
        }
      ]
    },
    {
      "cell_type": "code",
      "source": [
        "L2 = [str(c) for c in L]\n",
        "L2"
      ],
      "metadata": {
        "colab": {
          "base_uri": "https://localhost:8080/"
        },
        "id": "peiODg-wu0UP",
        "outputId": "980cef0d-6ca2-4da6-fac9-96f2c5179a67"
      },
      "execution_count": null,
      "outputs": [
        {
          "output_type": "execute_result",
          "data": {
            "text/plain": [
              "['0', '1', '2', '3', '4', '5', '6', '7', '8', '9']"
            ]
          },
          "metadata": {},
          "execution_count": 98
        }
      ]
    },
    {
      "cell_type": "code",
      "source": [
        "type(L2[0])"
      ],
      "metadata": {
        "colab": {
          "base_uri": "https://localhost:8080/"
        },
        "id": "VtIcV8pVu29N",
        "outputId": "0180eb5c-b573-414d-883f-fe747e8278d9"
      },
      "execution_count": null,
      "outputs": [
        {
          "output_type": "execute_result",
          "data": {
            "text/plain": [
              "str"
            ]
          },
          "metadata": {},
          "execution_count": 99
        }
      ]
    },
    {
      "cell_type": "code",
      "source": [
        "L3 = [True, \"2\", 3.0, 4]\n",
        "[type(item) for item in L3]"
      ],
      "metadata": {
        "colab": {
          "base_uri": "https://localhost:8080/"
        },
        "id": "yvmZGyteu6vH",
        "outputId": "0bfaafcd-f008-4728-a9f4-4e9ab5702aa7"
      },
      "execution_count": null,
      "outputs": [
        {
          "output_type": "execute_result",
          "data": {
            "text/plain": [
              "[bool, str, float, int]"
            ]
          },
          "metadata": {},
          "execution_count": 100
        }
      ]
    },
    {
      "cell_type": "markdown",
      "source": [
        "## Fixed-Type Arrays in Python\n",
        "\n",
        "Python offers several different options for storing data in efficient, fixed-type data buffers.\n",
        "The built-in ``array`` module (available since Python 3.3) can be used to create dense arrays of a uniform type:"
      ],
      "metadata": {
        "id": "WigRtVzrvEoy"
      }
    },
    {
      "cell_type": "code",
      "source": [
        "import array\n",
        "L = list(range(10))\n",
        "A = array.array('i', L)\n",
        "A"
      ],
      "metadata": {
        "colab": {
          "base_uri": "https://localhost:8080/"
        },
        "id": "Mtu3TuuGvKZW",
        "outputId": "a8fe12e5-a8af-4c56-968c-116aee26f806"
      },
      "execution_count": null,
      "outputs": [
        {
          "output_type": "execute_result",
          "data": {
            "text/plain": [
              "array('i', [0, 1, 2, 3, 4, 5, 6, 7, 8, 9])"
            ]
          },
          "metadata": {},
          "execution_count": 101
        }
      ]
    },
    {
      "cell_type": "markdown",
      "source": [
        "\n",
        "## Creating Arrays from Python Lists\n",
        "\n",
        "First, we can use ``np.array`` to create arrays from Python lists:"
      ],
      "metadata": {
        "id": "xCEKacaQwcb2"
      }
    },
    {
      "cell_type": "code",
      "source": [
        "import numpy as np\n",
        "# integer array:\n",
        "np.array([1, 4, 2, 5, 3])"
      ],
      "metadata": {
        "colab": {
          "base_uri": "https://localhost:8080/"
        },
        "id": "Df2kJJVKwd1V",
        "outputId": "1496f9ad-0c0d-4f1f-eb4c-dec8528a1381"
      },
      "execution_count": null,
      "outputs": [
        {
          "output_type": "execute_result",
          "data": {
            "text/plain": [
              "array([1, 4, 2, 5, 3])"
            ]
          },
          "metadata": {},
          "execution_count": 102
        }
      ]
    },
    {
      "cell_type": "markdown",
      "source": [
        "Remember that unlike Python lists, NumPy is constrained to arrays that all contain the same type. If types do not match, NumPy will upcast if possible (here, integers are up-cast to floating point):"
      ],
      "metadata": {
        "id": "aSXNgXDbwqyU"
      }
    },
    {
      "cell_type": "code",
      "source": [
        "np.array([3.14, 4, 2, 3])"
      ],
      "metadata": {
        "colab": {
          "base_uri": "https://localhost:8080/"
        },
        "id": "SFoqtm67wqd4",
        "outputId": "65de47e7-45f9-450a-a69a-ee9e9ad8d797"
      },
      "execution_count": null,
      "outputs": [
        {
          "output_type": "execute_result",
          "data": {
            "text/plain": [
              "array([3.14, 4.  , 2.  , 3.  ])"
            ]
          },
          "metadata": {},
          "execution_count": 103
        }
      ]
    },
    {
      "cell_type": "markdown",
      "source": [
        "If we want to explicitly set the data type of the resulting array, we can use the ``dtype`` keyword:"
      ],
      "metadata": {
        "id": "zCM50ofhwxy-"
      }
    },
    {
      "cell_type": "code",
      "source": [
        "np.array([1, 2, 3, 4], dtype='float32')"
      ],
      "metadata": {
        "colab": {
          "base_uri": "https://localhost:8080/"
        },
        "id": "58Ra0aDMw2oL",
        "outputId": "b097034d-eae9-44f0-b092-c9904b9797af"
      },
      "execution_count": null,
      "outputs": [
        {
          "output_type": "execute_result",
          "data": {
            "text/plain": [
              "array([1., 2., 3., 4.], dtype=float32)"
            ]
          },
          "metadata": {},
          "execution_count": 104
        }
      ]
    },
    {
      "cell_type": "markdown",
      "source": [
        "Finally, unlike Python lists, NumPy arrays can explicitly be multi-dimensional; here's one way of initializing a multidimensional array using a list of lists:"
      ],
      "metadata": {
        "id": "TTFC1GqJxfzn"
      }
    },
    {
      "cell_type": "code",
      "source": [
        "# nested lists result in multi-dimensional arrays\n",
        "np.array([range(i, i + 3) for i in [2, 4, 6]])"
      ],
      "metadata": {
        "colab": {
          "base_uri": "https://localhost:8080/"
        },
        "id": "EPgUUQZ-xYpd",
        "outputId": "fe35cd9a-95a4-45bb-bc97-dd1292143b7d"
      },
      "execution_count": null,
      "outputs": [
        {
          "output_type": "execute_result",
          "data": {
            "text/plain": [
              "array([[2, 3, 4],\n",
              "       [4, 5, 6],\n",
              "       [6, 7, 8]])"
            ]
          },
          "metadata": {},
          "execution_count": 105
        }
      ]
    },
    {
      "cell_type": "markdown",
      "source": [
        "## Creating Arrays from Scratch\n",
        "\n",
        "Especially for larger arrays, it is more efficient to create arrays from scratch using routines built into NumPy.\n",
        "Here are several examples:"
      ],
      "metadata": {
        "id": "c20zcRzBxxey"
      }
    },
    {
      "cell_type": "code",
      "source": [
        "# Create a length-10 integer array filled with zeros\n",
        "np.zeros(10, dtype=int)"
      ],
      "metadata": {
        "id": "4Df8zJxFxBdq",
        "outputId": "cdebcbf7-cd08-4612-8f74-d140d4d5aaa5",
        "colab": {
          "base_uri": "https://localhost:8080/"
        }
      },
      "execution_count": null,
      "outputs": [
        {
          "output_type": "execute_result",
          "data": {
            "text/plain": [
              "array([0, 0, 0, 0, 0, 0, 0, 0, 0, 0])"
            ]
          },
          "metadata": {},
          "execution_count": 106
        }
      ]
    },
    {
      "cell_type": "code",
      "source": [
        "# Create a 3x5 floating-point array filled with ones\n",
        "np.ones((3, 5), dtype=float)"
      ],
      "metadata": {
        "id": "YeqU_GSexC5m",
        "outputId": "57dc61ea-76ee-4bbc-d5ee-7b272858e344",
        "colab": {
          "base_uri": "https://localhost:8080/"
        }
      },
      "execution_count": null,
      "outputs": [
        {
          "output_type": "execute_result",
          "data": {
            "text/plain": [
              "array([[1., 1., 1., 1., 1.],\n",
              "       [1., 1., 1., 1., 1.],\n",
              "       [1., 1., 1., 1., 1.]])"
            ]
          },
          "metadata": {},
          "execution_count": 107
        }
      ]
    },
    {
      "cell_type": "code",
      "source": [
        "# Create a 3x5 array filled with 3.14\n",
        "np.full((3, 5), 3.14)"
      ],
      "metadata": {
        "id": "JvZL6KtAxKDP",
        "outputId": "9c6f9046-83f4-4297-cc66-d377122a21e6",
        "colab": {
          "base_uri": "https://localhost:8080/"
        }
      },
      "execution_count": null,
      "outputs": [
        {
          "output_type": "execute_result",
          "data": {
            "text/plain": [
              "array([[3.14, 3.14, 3.14, 3.14, 3.14],\n",
              "       [3.14, 3.14, 3.14, 3.14, 3.14],\n",
              "       [3.14, 3.14, 3.14, 3.14, 3.14]])"
            ]
          },
          "metadata": {},
          "execution_count": 108
        }
      ]
    },
    {
      "cell_type": "code",
      "source": [
        "# Create an array filled with a linear sequence\n",
        "# Starting at 0, ending at 20, stepping by 2\n",
        "# (this is similar to the built-in range() function)\n",
        "np.arange(0, 20, 2)"
      ],
      "metadata": {
        "id": "8cljdE71xNvR",
        "outputId": "0313b861-bf02-47c9-8259-f8f9fda1d9e5",
        "colab": {
          "base_uri": "https://localhost:8080/"
        }
      },
      "execution_count": null,
      "outputs": [
        {
          "output_type": "execute_result",
          "data": {
            "text/plain": [
              "array([ 0,  2,  4,  6,  8, 10, 12, 14, 16, 18])"
            ]
          },
          "metadata": {},
          "execution_count": 109
        }
      ]
    },
    {
      "cell_type": "code",
      "source": [
        "# Create an array of five values evenly spaced between 0 and 1\n",
        "np.linspace(0, 1, 5)"
      ],
      "metadata": {
        "id": "83UbZarFxS6b",
        "outputId": "e240e294-2a70-4030-f8f3-0b1d7c3fb385",
        "colab": {
          "base_uri": "https://localhost:8080/"
        }
      },
      "execution_count": null,
      "outputs": [
        {
          "output_type": "execute_result",
          "data": {
            "text/plain": [
              "array([0.  , 0.25, 0.5 , 0.75, 1.  ])"
            ]
          },
          "metadata": {},
          "execution_count": 110
        }
      ]
    },
    {
      "cell_type": "code",
      "source": [
        "# Create a 3x3 array of uniformly distributed\n",
        "# random values between 0 and 1\n",
        "np.random.random((3, 3))"
      ],
      "metadata": {
        "id": "QXEyH8ZTxW0G",
        "outputId": "174d43cb-8094-4b18-b647-e6014ac43116",
        "colab": {
          "base_uri": "https://localhost:8080/"
        }
      },
      "execution_count": null,
      "outputs": [
        {
          "output_type": "execute_result",
          "data": {
            "text/plain": [
              "array([[0.65279032, 0.63505887, 0.99529957],\n",
              "       [0.58185033, 0.41436859, 0.4746975 ],\n",
              "       [0.6235101 , 0.33800761, 0.67475232]])"
            ]
          },
          "metadata": {},
          "execution_count": 111
        }
      ]
    },
    {
      "cell_type": "code",
      "source": [
        "# Create a 3x3 array of normally distributed random values\n",
        "# with mean 0 and standard deviation 1\n",
        "np.random.normal(0, 1, (3, 3))"
      ],
      "metadata": {
        "id": "04T8a-AAxbV7",
        "outputId": "fe68c86c-a19e-45e1-b486-b92862211ea5",
        "colab": {
          "base_uri": "https://localhost:8080/"
        }
      },
      "execution_count": null,
      "outputs": [
        {
          "output_type": "execute_result",
          "data": {
            "text/plain": [
              "array([[ 1.0657892 , -0.69993739,  0.14407911],\n",
              "       [ 0.3985421 ,  0.02686925,  1.05583713],\n",
              "       [-0.07318342, -0.66572066, -0.04411241]])"
            ]
          },
          "metadata": {},
          "execution_count": 112
        }
      ]
    },
    {
      "cell_type": "code",
      "source": [
        "# Create a 3x3 array of random integers in the interval [0, 10)\n",
        "np.random.randint(0, 10, (3, 3))"
      ],
      "metadata": {
        "id": "FB6_jCanxez6",
        "outputId": "023ede31-9be6-40fb-c55f-badaef397d45",
        "colab": {
          "base_uri": "https://localhost:8080/"
        }
      },
      "execution_count": null,
      "outputs": [
        {
          "output_type": "execute_result",
          "data": {
            "text/plain": [
              "array([[7, 2, 9],\n",
              "       [2, 3, 3],\n",
              "       [2, 3, 4]])"
            ]
          },
          "metadata": {},
          "execution_count": 113
        }
      ]
    },
    {
      "cell_type": "code",
      "source": [
        "# Create a 3x3 identity matrix\n",
        "np.eye(5)"
      ],
      "metadata": {
        "id": "S8-Pk3q5xmdO",
        "outputId": "cc282069-442d-4dfa-bf95-d26c72d86041",
        "colab": {
          "base_uri": "https://localhost:8080/"
        }
      },
      "execution_count": null,
      "outputs": [
        {
          "output_type": "execute_result",
          "data": {
            "text/plain": [
              "array([[1., 0., 0., 0., 0.],\n",
              "       [0., 1., 0., 0., 0.],\n",
              "       [0., 0., 1., 0., 0.],\n",
              "       [0., 0., 0., 1., 0.],\n",
              "       [0., 0., 0., 0., 1.]])"
            ]
          },
          "metadata": {},
          "execution_count": 114
        }
      ]
    },
    {
      "cell_type": "code",
      "source": [
        "# Create an uninitialized array of three integers\n",
        "# The values will be whatever happens to already exist at that memory location\n",
        "np.empty(3)"
      ],
      "metadata": {
        "id": "1OgzEhM2xtF5",
        "outputId": "41b8300a-952b-4bb2-bf5f-eebd0857d17a",
        "colab": {
          "base_uri": "https://localhost:8080/"
        }
      },
      "execution_count": null,
      "outputs": [
        {
          "output_type": "execute_result",
          "data": {
            "text/plain": [
              "array([4.9e-324, 9.9e-324, 1.5e-323])"
            ]
          },
          "metadata": {},
          "execution_count": 115
        }
      ]
    },
    {
      "cell_type": "markdown",
      "source": [
        "## NumPy Standard Data Types\n",
        "\n",
        "NumPy arrays contain values of a single type, so it is important to have detailed knowledge of those types and their limitations.\n",
        "Because NumPy is built in C, the types will be familiar to users of C, Fortran, and other related languages.\n",
        "\n",
        "The standard NumPy data types are listed in the following table.\n",
        "Note that when constructing an array, they can be specified using a string:\n",
        "\n",
        "```python\n",
        "np.zeros(10, dtype='int16')\n",
        "```\n",
        "\n",
        "Or using the associated NumPy object:\n",
        "\n",
        "```python\n",
        "np.zeros(10, dtype=np.int16)\n",
        "```\n",
        "Following table shows all datatypes for Numpy Array\n",
        "\n",
        "| Data type\t    | Description |\n",
        "|---------------|-------------|\n",
        "| ``bool_``     | Boolean (True or False) stored as a byte |\n",
        "| ``int_``      | Default integer type (same as C ``long``; normally either ``int64`` or ``int32``)| \n",
        "| ``intc``      | Identical to C ``int`` (normally ``int32`` or ``int64``)| \n",
        "| ``intp``      | Integer used for indexing (same as C ``ssize_t``; normally either ``int32`` or ``int64``)| \n",
        "| ``int8``      | Byte (-128 to 127)| \n",
        "| ``int16``     | Integer (-32768 to 32767)|\n",
        "| ``int32``     | Integer (-2147483648 to 2147483647)|\n",
        "| ``int64``     | Integer (-9223372036854775808 to 9223372036854775807)| \n",
        "| ``uint8``     | Unsigned integer (0 to 255)| \n",
        "| ``uint16``    | Unsigned integer (0 to 65535)| \n",
        "| ``uint32``    | Unsigned integer (0 to 4294967295)| \n",
        "| ``uint64``    | Unsigned integer (0 to 18446744073709551615)| \n",
        "| ``float_``    | Shorthand for ``float64``.| \n",
        "| ``float16``   | Half precision float: sign bit, 5 bits exponent, 10 bits mantissa| \n",
        "| ``float32``   | Single precision float: sign bit, 8 bits exponent, 23 bits mantissa| \n",
        "| ``float64``   | Double precision float: sign bit, 11 bits exponent, 52 bits mantissa| \n",
        "| ``complex_``  | Shorthand for ``complex128``.| \n",
        "| ``complex64`` | Complex number, represented by two 32-bit floats| \n",
        "| ``complex128``| Complex number, represented by two 64-bit floats| "
      ],
      "metadata": {
        "id": "FhIMJjgcx1eD"
      }
    },
    {
      "cell_type": "markdown",
      "source": [
        "## NumPy Array Attributes\n",
        "\n",
        "We will learn about important Attributes with NumPy Array objects\n",
        "\n",
        "Each array object has attributes ``ndim`` (the number of dimensions), ``shape`` (the size of each dimension), and ``size`` (the total size of the array), the ``dtype``, the data type of the array :"
      ],
      "metadata": {
        "id": "_fIZQ4AKzf3e"
      }
    },
    {
      "cell_type": "code",
      "source": [
        "#Consider following sample arrays\n",
        "np.random.seed(0)  # seed for reproducibility\n",
        "\n",
        "x1 = np.random.randint(10, size=6)  # One-dimensional array\n",
        "x2 = np.random.randint(10, size=(3, 4))  # Two-dimensional array\n",
        "x3 = np.random.randint(10, size=(3, 4, 5))  # Three-dimensional array"
      ],
      "metadata": {
        "id": "ord_E53rx0Yx"
      },
      "execution_count": null,
      "outputs": []
    },
    {
      "cell_type": "code",
      "source": [
        "print(\"x3 ndim: \", x3.ndim)\n",
        "print(\"x3 shape:\", x3.shape)\n",
        "print(\"x3 size: \", x3.size)\n",
        "print(\"dtype:\", x3.dtype)"
      ],
      "metadata": {
        "id": "X4avCd82z3nZ",
        "outputId": "96c800b5-5634-46a1-a296-35fb368e5be0",
        "colab": {
          "base_uri": "https://localhost:8080/"
        }
      },
      "execution_count": null,
      "outputs": [
        {
          "output_type": "stream",
          "name": "stdout",
          "text": [
            "x3 ndim:  3\n",
            "x3 shape: (3, 4, 5)\n",
            "x3 size:  60\n",
            "dtype: int64\n"
          ]
        }
      ]
    },
    {
      "cell_type": "markdown",
      "source": [
        "Other attributes include ``itemsize``, which lists the size (in bytes) of each array element, and ``nbytes``, which lists the total size (in bytes) of the array:"
      ],
      "metadata": {
        "id": "gD5y17ur0SUY"
      }
    },
    {
      "cell_type": "code",
      "source": [
        "print(\"itemsize:\", x3.itemsize, \"bytes\")\n",
        "print(\"nbytes:\", x3.nbytes, \"bytes\")"
      ],
      "metadata": {
        "id": "iIACfZGJz88F",
        "outputId": "deb017cd-2f26-4cfe-fca4-18c2f6738718",
        "colab": {
          "base_uri": "https://localhost:8080/"
        }
      },
      "execution_count": null,
      "outputs": [
        {
          "output_type": "stream",
          "name": "stdout",
          "text": [
            "itemsize: 8 bytes\n",
            "nbytes: 480 bytes\n"
          ]
        }
      ]
    },
    {
      "cell_type": "markdown",
      "source": [
        "## Array Indexing: Accessing Single Elements\n",
        "Next we learn how to access single element in a NumPy array\n",
        "NumPy follows indexing similar to that of Python in a dimension index starts at 0 till length-1 \n",
        "\n",
        "So x1[0] will mean 0th element and x1[5] means sixth element in array x1.\n",
        "\n",
        "We can use negative index value to indicate accessing elements from back side of array.\n",
        "\n",
        "In a multi-dimensional array, items can be accessed using a comma-separated tuple of indices as shown in below code cell."
      ],
      "metadata": {
        "id": "QhHVb0nMGphd"
      }
    },
    {
      "cell_type": "code",
      "source": [
        "# acessing third list's first element\n",
        "x2[2, 0]"
      ],
      "metadata": {
        "id": "DYhobFMoJV9c",
        "outputId": "0659a6e5-3545-42f4-e373-5014311e5428",
        "colab": {
          "base_uri": "https://localhost:8080/"
        }
      },
      "execution_count": null,
      "outputs": [
        {
          "output_type": "execute_result",
          "data": {
            "text/plain": [
              "1"
            ]
          },
          "metadata": {},
          "execution_count": 119
        }
      ]
    },
    {
      "cell_type": "code",
      "source": [
        "# accessing second last element from second list \n",
        "x2[1, -2]"
      ],
      "metadata": {
        "id": "dm0FVTT8JlL4",
        "outputId": "c22a10f6-3748-4ffe-f672-1c3977e4e96b",
        "colab": {
          "base_uri": "https://localhost:8080/"
        }
      },
      "execution_count": null,
      "outputs": [
        {
          "output_type": "execute_result",
          "data": {
            "text/plain": [
              "8"
            ]
          },
          "metadata": {},
          "execution_count": 120
        }
      ]
    },
    {
      "cell_type": "code",
      "source": [
        "# modifying value at a perticular index\n",
        "x2[0, 0] = 12\n",
        "x2"
      ],
      "metadata": {
        "id": "8McLQYbmJ1gb",
        "outputId": "49a3e868-5c66-4855-f012-1393f133d0f6",
        "colab": {
          "base_uri": "https://localhost:8080/"
        }
      },
      "execution_count": null,
      "outputs": [
        {
          "output_type": "execute_result",
          "data": {
            "text/plain": [
              "array([[12,  5,  2,  4],\n",
              "       [ 7,  6,  8,  8],\n",
              "       [ 1,  6,  7,  7]])"
            ]
          },
          "metadata": {},
          "execution_count": 121
        }
      ]
    },
    {
      "cell_type": "markdown",
      "source": [
        "## Array Slicing: Accessing Subarrays\n",
        "\n",
        "Just as we can use square brackets to access individual array elements, we can also use them to access subarrays with the *slice* notation, marked by the colon (``:``) character.\n",
        "The NumPy slicing syntax follows that of the standard Python list; to access a slice of an array ``x``, use this:\n",
        "``` python\n",
        "x[start:stop:step]\n",
        "```\n",
        "If any of these are unspecified, they default to the values ``start=0``, ``stop=``*``size of dimension``*, ``step=1``.\n",
        "We'll take a look at accessing sub-arrays in one dimension and in multiple dimensions."
      ],
      "metadata": {
        "id": "hwr6_1yvKQf9"
      }
    },
    {
      "cell_type": "markdown",
      "source": [
        "### One-dimensional subarrays"
      ],
      "metadata": {
        "id": "aEoCkO4ZLT7W"
      }
    },
    {
      "cell_type": "code",
      "source": [
        "x = np.arange(10)\n",
        "x"
      ],
      "metadata": {
        "id": "YRDpL3ZzLa1V",
        "outputId": "f66d6d44-2435-43e4-bf12-f6f1e0ee2716",
        "colab": {
          "base_uri": "https://localhost:8080/"
        }
      },
      "execution_count": null,
      "outputs": [
        {
          "output_type": "execute_result",
          "data": {
            "text/plain": [
              "array([0, 1, 2, 3, 4, 5, 6, 7, 8, 9])"
            ]
          },
          "metadata": {},
          "execution_count": 122
        }
      ]
    },
    {
      "cell_type": "code",
      "source": [
        "x[:5]  # first five elements"
      ],
      "metadata": {
        "id": "1J9mkW48LcNL",
        "outputId": "04ba25ef-494b-4d8c-f2c1-58e814f410d7",
        "colab": {
          "base_uri": "https://localhost:8080/"
        }
      },
      "execution_count": null,
      "outputs": [
        {
          "output_type": "execute_result",
          "data": {
            "text/plain": [
              "array([0, 1, 2, 3, 4])"
            ]
          },
          "metadata": {},
          "execution_count": 123
        }
      ]
    },
    {
      "cell_type": "code",
      "source": [
        "x[:5]  # elements after index five"
      ],
      "metadata": {
        "id": "fab1B-FYLgKV",
        "outputId": "91e058df-5fdf-43f7-e780-3f8c00e9deb5",
        "colab": {
          "base_uri": "https://localhost:8080/"
        }
      },
      "execution_count": null,
      "outputs": [
        {
          "output_type": "execute_result",
          "data": {
            "text/plain": [
              "array([0, 1, 2, 3, 4])"
            ]
          },
          "metadata": {},
          "execution_count": 124
        }
      ]
    },
    {
      "cell_type": "code",
      "source": [
        "x[4:7]  # sub-array of index 4, 5, 6"
      ],
      "metadata": {
        "id": "5N3cpw-ULiqV",
        "outputId": "9c19e129-8ad1-4b5b-cab1-f50d205b118e",
        "colab": {
          "base_uri": "https://localhost:8080/"
        }
      },
      "execution_count": null,
      "outputs": [
        {
          "output_type": "execute_result",
          "data": {
            "text/plain": [
              "array([4, 5, 6])"
            ]
          },
          "metadata": {},
          "execution_count": 125
        }
      ]
    },
    {
      "cell_type": "code",
      "source": [
        "x[::2]  # every other element"
      ],
      "metadata": {
        "id": "iNsOAUQDMDx_",
        "outputId": "0ab8bb1d-5544-49ae-f755-b56ae4e4ed7b",
        "colab": {
          "base_uri": "https://localhost:8080/"
        }
      },
      "execution_count": null,
      "outputs": [
        {
          "output_type": "execute_result",
          "data": {
            "text/plain": [
              "array([0, 2, 4, 6, 8])"
            ]
          },
          "metadata": {},
          "execution_count": 126
        }
      ]
    },
    {
      "cell_type": "code",
      "source": [
        "x[2::2]  # every other element starting at index 2"
      ],
      "metadata": {
        "id": "yilqVhunSU5u",
        "outputId": "0ef9a230-61c4-4337-f374-848581571b3b",
        "colab": {
          "base_uri": "https://localhost:8080/"
        }
      },
      "execution_count": null,
      "outputs": [
        {
          "output_type": "execute_result",
          "data": {
            "text/plain": [
              "array([2, 4, 6, 8])"
            ]
          },
          "metadata": {},
          "execution_count": 127
        }
      ]
    },
    {
      "cell_type": "markdown",
      "source": [
        "A potentially confusing case is when the ``step`` value is negative.\n",
        "In this case, the defaults for ``start`` and ``stop`` are swapped.\n",
        "This becomes a convenient way to reverse an array:"
      ],
      "metadata": {
        "id": "o6_sI_lsSlvK"
      }
    },
    {
      "cell_type": "code",
      "source": [
        "x[::-1]  # all elements, reversed"
      ],
      "metadata": {
        "id": "HtaibN6JSlJg",
        "outputId": "3335216e-4f6f-470d-b9a2-b69c4a1893b4",
        "colab": {
          "base_uri": "https://localhost:8080/"
        }
      },
      "execution_count": null,
      "outputs": [
        {
          "output_type": "execute_result",
          "data": {
            "text/plain": [
              "array([9, 8, 7, 6, 5, 4, 3, 2, 1, 0])"
            ]
          },
          "metadata": {},
          "execution_count": 128
        }
      ]
    },
    {
      "cell_type": "code",
      "source": [
        "x[3::-2]  # reversed every other from index 3"
      ],
      "metadata": {
        "id": "wbfEp5IESpQT",
        "outputId": "40f76279-84ad-419a-c953-a9551a6975ca",
        "colab": {
          "base_uri": "https://localhost:8080/"
        }
      },
      "execution_count": null,
      "outputs": [
        {
          "output_type": "execute_result",
          "data": {
            "text/plain": [
              "array([3, 1])"
            ]
          },
          "metadata": {},
          "execution_count": 129
        }
      ]
    },
    {
      "cell_type": "markdown",
      "source": [
        "### Multi-dimensional subarrays\n",
        "\n",
        "Multi-dimensional slices work in the same way, with multiple slices separated by commas.\n",
        "For example:"
      ],
      "metadata": {
        "id": "8IIrPEOAVPd_"
      }
    },
    {
      "cell_type": "code",
      "source": [
        "x2[:2, :3]  # This is sub Array of x2 with first two rows and first three columns"
      ],
      "metadata": {
        "id": "phD6ltHjS5b0",
        "outputId": "5b9eab68-5f54-4985-f460-0f96cf140345",
        "colab": {
          "base_uri": "https://localhost:8080/"
        }
      },
      "execution_count": null,
      "outputs": [
        {
          "output_type": "execute_result",
          "data": {
            "text/plain": [
              "array([[12,  5,  2],\n",
              "       [ 7,  6,  8]])"
            ]
          },
          "metadata": {},
          "execution_count": 130
        }
      ]
    },
    {
      "cell_type": "code",
      "source": [
        "#Check how we can reverse the multidimension array\n",
        "x2[::-1, ::-1]"
      ],
      "metadata": {
        "id": "LE7O0SIfVa8F",
        "outputId": "95d1219d-87de-46cb-ba40-98477b2ccad9",
        "colab": {
          "base_uri": "https://localhost:8080/"
        }
      },
      "execution_count": null,
      "outputs": [
        {
          "output_type": "execute_result",
          "data": {
            "text/plain": [
              "array([[ 7,  7,  6,  1],\n",
              "       [ 8,  8,  6,  7],\n",
              "       [ 4,  2,  5, 12]])"
            ]
          },
          "metadata": {},
          "execution_count": 131
        }
      ]
    },
    {
      "cell_type": "markdown",
      "source": [
        "#### Accessing array rows and columns\n",
        "\n",
        "One commonly needed routine is accessing of single rows or columns of an array.\n",
        "This can be done by combining indexing and slicing, using an empty slice marked by a single colon (``:``):"
      ],
      "metadata": {
        "id": "ikdPJUKUW0lU"
      }
    },
    {
      "cell_type": "code",
      "source": [
        "print(x2[:, 0])  # first column of x2"
      ],
      "metadata": {
        "id": "pmv7b_0jVa0Y",
        "outputId": "d94792d0-ff92-4b52-9a3a-3d13898b7329",
        "colab": {
          "base_uri": "https://localhost:8080/"
        }
      },
      "execution_count": null,
      "outputs": [
        {
          "output_type": "stream",
          "name": "stdout",
          "text": [
            "[12  7  1]\n"
          ]
        }
      ]
    },
    {
      "cell_type": "code",
      "source": [
        "print(x2[0, :])  # first row of x2"
      ],
      "metadata": {
        "id": "xB51GFTNW5b8",
        "outputId": "197ad728-a7db-4c9e-cf56-dc2e2e29dec8",
        "colab": {
          "base_uri": "https://localhost:8080/"
        }
      },
      "execution_count": null,
      "outputs": [
        {
          "output_type": "stream",
          "name": "stdout",
          "text": [
            "[12  5  2  4]\n"
          ]
        }
      ]
    },
    {
      "cell_type": "markdown",
      "source": [
        "### Subarrays as no-copy views\n",
        "\n",
        "One important–and extremely useful–thing to know about array slices is that they return *views* rather than *copies* of the array data.\n",
        "This is one area in which NumPy array slicing differs from Python list slicing: in lists, slices will be copies.\n",
        "Consider our two-dimensional array from before:"
      ],
      "metadata": {
        "id": "Z7qeID5QXLv_"
      }
    },
    {
      "cell_type": "code",
      "source": [
        "#Extract 2*2 sub array from x2\n",
        "x2_sub = x2[:2, :2]\n",
        "print(x2_sub)"
      ],
      "metadata": {
        "id": "YqS3iYj7XNgB",
        "outputId": "0a9ac291-8edf-4c94-8935-38aec92986ad",
        "colab": {
          "base_uri": "https://localhost:8080/"
        }
      },
      "execution_count": null,
      "outputs": [
        {
          "output_type": "stream",
          "name": "stdout",
          "text": [
            "[[12  5]\n",
            " [ 7  6]]\n"
          ]
        }
      ]
    },
    {
      "cell_type": "code",
      "source": [
        "x2_sub[0, 0] = 99\n",
        "#Above statement not oly modifies subarray but also the original array as well\n",
        "print(x2_sub)"
      ],
      "metadata": {
        "id": "Cu0tFyfcXZqp",
        "outputId": "71c98069-7095-477e-9418-376d5433181a",
        "colab": {
          "base_uri": "https://localhost:8080/"
        }
      },
      "execution_count": null,
      "outputs": [
        {
          "output_type": "stream",
          "name": "stdout",
          "text": [
            "[[99  5]\n",
            " [ 7  6]]\n"
          ]
        }
      ]
    },
    {
      "cell_type": "markdown",
      "source": [
        "Despite the nice features of array views, it is sometimes useful to instead explicitly copy the data within an array or a subarray. This can be most easily done with the ``copy()`` method:"
      ],
      "metadata": {
        "id": "KuxFe4X4XrLA"
      }
    },
    {
      "cell_type": "code",
      "source": [
        "x2_sub_copy = x2[:2].copy()  # copy \n",
        "print (x2_sub_copy)\n",
        "print (x2)"
      ],
      "metadata": {
        "id": "SK11XTrXYqhl",
        "outputId": "427bdac2-97ab-4af6-c172-69d898e1d705",
        "colab": {
          "base_uri": "https://localhost:8080/"
        }
      },
      "execution_count": null,
      "outputs": [
        {
          "output_type": "stream",
          "name": "stdout",
          "text": [
            "[99 99]\n",
            "[99 99]\n"
          ]
        }
      ]
    },
    {
      "cell_type": "markdown",
      "source": [
        "## Array Concatenation and Splitting\n",
        "\n",
        "All of the preceding routines worked on single arrays. It's also possible to combine multiple arrays into one, and to conversely split a single array into multiple arrays. We'll take a look at those operations here.\n",
        "\n",
        "\n",
        "### Concatenation of arrays\n",
        "\n",
        "Concatenation, or joining of two arrays in NumPy, is primarily accomplished using the routines ``np.concatenate``, ``np.vstack``, and ``np.hstack``.\n",
        "``np.concatenate`` takes a tuple or list of arrays as its first argument, as we can see here:"
      ],
      "metadata": {
        "id": "weHsUSMJY1DT"
      }
    },
    {
      "cell_type": "code",
      "source": [
        "x = np.array([1, 2, 3])\n",
        "y = np.array([3, 2, 1])\n",
        "np.concatenate([x, y])"
      ],
      "metadata": {
        "id": "efGYrUJqZTkB",
        "outputId": "331c5137-5892-4dc5-a70f-26fde4d2e5bf",
        "colab": {
          "base_uri": "https://localhost:8080/"
        }
      },
      "execution_count": null,
      "outputs": [
        {
          "output_type": "execute_result",
          "data": {
            "text/plain": [
              "array([1, 2, 3, 3, 2, 1])"
            ]
          },
          "metadata": {},
          "execution_count": 137
        }
      ]
    },
    {
      "cell_type": "code",
      "source": [
        "grid = np.array([[1, 2, 3],\n",
        "                 [4, 5, 6]])"
      ],
      "metadata": {
        "id": "nIppqCTKZZ_k"
      },
      "execution_count": null,
      "outputs": []
    },
    {
      "cell_type": "code",
      "source": [
        "# concatenate along the first axis\n",
        "np.concatenate([grid, grid])"
      ],
      "metadata": {
        "id": "mSqvbZmeZbLK",
        "outputId": "200dce78-7b73-4e4f-e3a4-06806735a7c8",
        "colab": {
          "base_uri": "https://localhost:8080/"
        }
      },
      "execution_count": null,
      "outputs": [
        {
          "output_type": "execute_result",
          "data": {
            "text/plain": [
              "array([[9, 8, 7],\n",
              "       [6, 5, 4],\n",
              "       [9, 8, 7],\n",
              "       [6, 5, 4]])"
            ]
          },
          "metadata": {},
          "execution_count": 138
        }
      ]
    },
    {
      "cell_type": "code",
      "source": [
        "# concatenate along the second axis (zero-indexed)\n",
        "np.concatenate([grid, grid], axis=1)"
      ],
      "metadata": {
        "id": "TXZ2uJjEZeZX",
        "outputId": "fd2cfe74-053a-4f78-b8d4-a6b76f75b240",
        "colab": {
          "base_uri": "https://localhost:8080/"
        }
      },
      "execution_count": null,
      "outputs": [
        {
          "output_type": "execute_result",
          "data": {
            "text/plain": [
              "array([[9, 8, 7, 9, 8, 7],\n",
              "       [6, 5, 4, 6, 5, 4]])"
            ]
          },
          "metadata": {},
          "execution_count": 139
        }
      ]
    },
    {
      "cell_type": "markdown",
      "source": [
        "When joining arrays of mixed dimensions, it can be clearer to use the ``np.vstack`` (vertical stack) and ``np.hstack`` (horizontal stack) functions as shown below:"
      ],
      "metadata": {
        "id": "V2_6-QWHZngr"
      }
    },
    {
      "cell_type": "code",
      "source": [
        "x = np.array([1, 2, 3])\n",
        "grid = np.array([[9, 8, 7],\n",
        "                 [6, 5, 4]])\n",
        "\n",
        "# vertically stack the arrays\n",
        "np.vstack([x, grid])"
      ],
      "metadata": {
        "id": "vEPmTdZ2ZzCS",
        "outputId": "be0aacbd-ff16-4e9e-e249-b93df3f587b3",
        "colab": {
          "base_uri": "https://localhost:8080/"
        }
      },
      "execution_count": null,
      "outputs": [
        {
          "output_type": "execute_result",
          "data": {
            "text/plain": [
              "array([[1, 2, 3],\n",
              "       [9, 8, 7],\n",
              "       [6, 5, 4]])"
            ]
          },
          "metadata": {},
          "execution_count": 142
        }
      ]
    },
    {
      "cell_type": "code",
      "source": [
        "# horizontally stack the arrays\n",
        "y = np.array([[99],\n",
        "              [99]])\n",
        "np.hstack([grid, y])"
      ],
      "metadata": {
        "id": "PWrrAOr-Z1s2",
        "outputId": "3998a170-859d-4ffb-c13c-e9c5af1a1d6b",
        "colab": {
          "base_uri": "https://localhost:8080/"
        }
      },
      "execution_count": null,
      "outputs": [
        {
          "output_type": "execute_result",
          "data": {
            "text/plain": [
              "array([[ 9,  8,  7, 99],\n",
              "       [ 6,  5,  4, 99]])"
            ]
          },
          "metadata": {},
          "execution_count": 143
        }
      ]
    },
    {
      "cell_type": "markdown",
      "source": [
        "### Splitting of arrays\n",
        "\n",
        "The opposite of concatenation is splitting, which is implemented by the functions ``np.split``, ``np.hsplit``, and ``np.vsplit``.  For each of these, we can pass a list of indices giving the split points:"
      ],
      "metadata": {
        "id": "bB5Ib1CsZ2rM"
      }
    },
    {
      "cell_type": "code",
      "source": [
        "x = [1, 2, 3, 99, 99, 3, 2, 1]\n",
        "x1, x2, x3 = np.split(x, [3, 5])\n",
        "print(x1, x2, x3)"
      ],
      "metadata": {
        "id": "TZTwODYMZ-1J",
        "outputId": "1161f242-99cd-46de-f47c-43fc5994220a",
        "colab": {
          "base_uri": "https://localhost:8080/"
        }
      },
      "execution_count": null,
      "outputs": [
        {
          "output_type": "stream",
          "name": "stdout",
          "text": [
            "[1 2 3] [99 99] [3 2 1]\n"
          ]
        }
      ]
    },
    {
      "cell_type": "markdown",
      "source": [
        "Notice that *N* split-points, leads to *N + 1* subarrays.\n",
        "The related functions ``np.hsplit`` and ``np.vsplit`` are similar:"
      ],
      "metadata": {
        "id": "dfhXzVNJaJF6"
      }
    },
    {
      "cell_type": "code",
      "source": [
        "grid = np.arange(16).reshape((4, 4))\n",
        "grid"
      ],
      "metadata": {
        "id": "j6Q3sbZmZ_kL",
        "outputId": "41e21098-d532-442c-c99a-6fc46f32b7f4",
        "colab": {
          "base_uri": "https://localhost:8080/"
        }
      },
      "execution_count": null,
      "outputs": [
        {
          "output_type": "execute_result",
          "data": {
            "text/plain": [
              "array([[ 0,  1,  2,  3],\n",
              "       [ 4,  5,  6,  7],\n",
              "       [ 8,  9, 10, 11],\n",
              "       [12, 13, 14, 15]])"
            ]
          },
          "metadata": {},
          "execution_count": 145
        }
      ]
    },
    {
      "cell_type": "code",
      "source": [
        "upper, lower = np.vsplit(grid, [2])\n",
        "print(upper)\n",
        "print(lower)"
      ],
      "metadata": {
        "id": "DNG8leinaMMa",
        "outputId": "72eb5a8d-5098-4d87-99a5-f4215ffcc600",
        "colab": {
          "base_uri": "https://localhost:8080/"
        }
      },
      "execution_count": null,
      "outputs": [
        {
          "output_type": "stream",
          "name": "stdout",
          "text": [
            "[[0 1 2 3]\n",
            " [4 5 6 7]]\n",
            "[[ 8  9 10 11]\n",
            " [12 13 14 15]]\n"
          ]
        }
      ]
    },
    {
      "cell_type": "code",
      "source": [
        "left, right = np.hsplit(grid, [2])\n",
        "print(left)\n",
        "print(right)"
      ],
      "metadata": {
        "id": "I94NlVPXaOfI",
        "outputId": "5073d03d-9050-422e-dffc-5ff6bca074da",
        "colab": {
          "base_uri": "https://localhost:8080/"
        }
      },
      "execution_count": null,
      "outputs": [
        {
          "output_type": "stream",
          "name": "stdout",
          "text": [
            "[[ 0  1]\n",
            " [ 4  5]\n",
            " [ 8  9]\n",
            " [12 13]]\n",
            "[[ 2  3]\n",
            " [ 6  7]\n",
            " [10 11]\n",
            " [14 15]]\n"
          ]
        }
      ]
    },
    {
      "cell_type": "markdown",
      "source": [
        "## Introducing UFuncs\n",
        "\n",
        "For many types of operations, NumPy provides a convenient interface into just this kind of statically typed, compiled routine. This is known as a *vectorized* operation.\n",
        "This can be accomplished by simply performing an operation on the array, which will then be applied to each element.\n",
        "This vectorized approach is designed to push the loop into the compiled layer that underlies NumPy, leading to much faster execution."
      ],
      "metadata": {
        "id": "OzROt5Aa_Qxx"
      }
    },
    {
      "cell_type": "code",
      "source": [
        "#Consider following loop based implementation to ind reciprocals for each element of an array\n",
        "np.random.seed(0)\n",
        "\n",
        "def compute_reciprocals(values):\n",
        "    output = np.empty(len(values))\n",
        "    for i in range(len(values)):\n",
        "        output[i] = 1.0 / values[i]\n",
        "    return output\n",
        "        \n",
        "big_array = np.random.randint(1, 100, size=1000000)\n",
        "%timeit compute_reciprocals(big_array)"
      ],
      "metadata": {
        "id": "aW_dwQab_dPF",
        "outputId": "7742ee68-b2ca-4b89-d0c8-5fcc606f5916",
        "colab": {
          "base_uri": "https://localhost:8080/"
        }
      },
      "execution_count": null,
      "outputs": [
        {
          "output_type": "stream",
          "name": "stdout",
          "text": [
            "2.26 s ± 403 ms per loop (mean ± std. dev. of 7 runs, 1 loop each)\n"
          ]
        }
      ]
    },
    {
      "cell_type": "code",
      "source": [
        "#Same operatoin using UFuncs applying '/' over array elements\n",
        "%timeit (1.0 / big_array)"
      ],
      "metadata": {
        "id": "C1qvC-0X_2Ue",
        "outputId": "0f683aca-6e54-4744-8012-0c49f5860a98",
        "colab": {
          "base_uri": "https://localhost:8080/"
        }
      },
      "execution_count": null,
      "outputs": [
        {
          "output_type": "stream",
          "name": "stdout",
          "text": [
            "2.14 ms ± 241 µs per loop (mean ± std. dev. of 7 runs, 1000 loops each)\n"
          ]
        }
      ]
    },
    {
      "cell_type": "markdown",
      "source": [
        "Vectorized operations in NumPy are implemented via *ufuncs*, whose main purpose is to quickly execute repeated operations on values in NumPy arrays. UFuncs are extremely flexible – before we saw an operation between a scalar and an array, but we can also operate between two arrays as well as multidimentional arrays.\n",
        "\n",
        "Computations using vectorization through ufuncs are nearly always more efficient than their counterpart implemented using Python loops, especially as the arrays grow in size.\n",
        "Any time you see such a loop in a Python script, you should consider whether it can be replaced with a vectorized expression."
      ],
      "metadata": {
        "id": "zWEw0XwOATnq"
      }
    },
    {
      "cell_type": "markdown",
      "source": [
        "## Exploring NumPy's UFuncs\n",
        "\n",
        "Ufuncs exist in two flavors: *unary ufuncs*, which operate on a single input, and *binary ufuncs*, which operate on two inputs.\n",
        "\n",
        "\n",
        "### Array arithmetic\n",
        "\n",
        "NumPy's ufuncs feel very natural to use because they make use of Python's native arithmetic operators.\n",
        "The standard addition, subtraction, multiplication, and division can all be used:"
      ],
      "metadata": {
        "id": "LmvTAwQxBeu9"
      }
    },
    {
      "cell_type": "code",
      "source": [
        "x = np.arange(4)\n",
        "print(\"x     =\", x)\n",
        "print(\"x + 5 =\", x + 5)\n",
        "print(\"x - 5 =\", x - 5)\n",
        "print(\"x * 2 =\", x * 2)\n",
        "print(\"x / 2 =\", x / 2)\n",
        "print(\"x // 2 =\", x // 2)  # floor division\n",
        "#some advanced arithmatic expression   -(x/2+1)^2 \n",
        "-(0.5*x + 1) ** 2"
      ],
      "metadata": {
        "id": "nR25dPabASNy",
        "outputId": "416ac73f-5f5f-4963-e1fd-4c4f418811b8",
        "colab": {
          "base_uri": "https://localhost:8080/"
        }
      },
      "execution_count": null,
      "outputs": [
        {
          "output_type": "stream",
          "name": "stdout",
          "text": [
            "x     = [0 1 2 3]\n",
            "x + 5 = [5 6 7 8]\n",
            "x - 5 = [-5 -4 -3 -2]\n",
            "x * 2 = [0 2 4 6]\n",
            "x / 2 = [0.  0.5 1.  1.5]\n",
            "x // 2 = [0 0 1 1]\n"
          ]
        },
        {
          "output_type": "execute_result",
          "data": {
            "text/plain": [
              "array([-1.  , -2.25, -4.  , -6.25])"
            ]
          },
          "metadata": {},
          "execution_count": 150
        }
      ]
    },
    {
      "cell_type": "markdown",
      "source": [
        "The following table lists the arithmetic operators implemented in NumPy:\n",
        "\n",
        "| Operator\t    | Equivalent ufunc    | Description                           |\n",
        "|---------------|---------------------|---------------------------------------|\n",
        "|``+``          |``np.add``           |Addition (e.g., ``1 + 1 = 2``)         |\n",
        "|``-``          |``np.subtract``      |Subtraction (e.g., ``3 - 2 = 1``)      |\n",
        "|``-``          |``np.negative``      |Unary negation (e.g., ``-2``)          |\n",
        "|``*``          |``np.multiply``      |Multiplication (e.g., ``2 * 3 = 6``)   |\n",
        "|``/``          |``np.divide``        |Division (e.g., ``3 / 2 = 1.5``)       |\n",
        "|``//``         |``np.floor_divide``  |Floor division (e.g., ``3 // 2 = 1``)  |\n",
        "|``**``         |``np.power``         |Exponentiation (e.g., ``2 ** 3 = 8``)  |\n",
        "|``%``          |``np.mod``           |Modulus/remainder (e.g., ``9 % 4 = 1``)|"
      ],
      "metadata": {
        "id": "a0WbgBQiB-i4"
      }
    },
    {
      "cell_type": "markdown",
      "source": [
        "### Specialized ufuncs\n",
        "\n",
        "NumPy has many more ufuncs available, including hyperbolic trig functions, bitwise arithmetic, comparison operators, conversions from radians to degrees, rounding and remainders, and much more.\n",
        "A look through the NumPy documentation reveals a lot of interesting functionality.\n",
        "\n",
        "Another excellent source for more specialized and obscure ufuncs is the submodule ``scipy.special``.\n",
        "If you want to compute some obscure mathematical function on your data, chances are it is implemented in ``scipy.special``.\n",
        "There are far too many functions to list them all, but the following snippet shows a couple that might come up in a statistics context:"
      ],
      "metadata": {
        "id": "igbeuwzCCSNq"
      }
    },
    {
      "cell_type": "code",
      "source": [
        "#importing package special from scipy package\n",
        "from scipy import special"
      ],
      "metadata": {
        "id": "lLWR2D17CXup"
      },
      "execution_count": null,
      "outputs": []
    },
    {
      "cell_type": "code",
      "source": [
        "# Gamma functions (generalized factorials) and related functions\n",
        "x = [1, 5, 10]\n",
        "print(\"gamma(x)     =\", special.gamma(x))\n",
        "print(\"ln|gamma(x)| =\", special.gammaln(x))\n",
        "print(\"beta(x, 2)   =\", special.beta(x, 2))"
      ],
      "metadata": {
        "id": "zZIUIA_TCm3N",
        "outputId": "da8468c6-82f3-4b9b-c97b-d05f1d8d5c67",
        "colab": {
          "base_uri": "https://localhost:8080/"
        }
      },
      "execution_count": null,
      "outputs": [
        {
          "output_type": "stream",
          "name": "stdout",
          "text": [
            "gamma(x)     = [1.0000e+00 2.4000e+01 3.6288e+05]\n",
            "ln|gamma(x)| = [ 0.          3.17805383 12.80182748]\n",
            "beta(x, 2)   = [0.5        0.03333333 0.00909091]\n"
          ]
        }
      ]
    },
    {
      "cell_type": "markdown",
      "source": [
        "Many other special functions like error functions, beta integral can also be evaluated."
      ],
      "metadata": {
        "id": "NLnCoznWCoE9"
      }
    },
    {
      "cell_type": "markdown",
      "source": [
        "### Aggregates\n",
        "\n",
        "For binary ufuncs, there are some interesting aggregates that can be computed directly from the object.\n",
        "For example, if we'd like to *reduce* an array with a particular operation, we can use the ``reduce`` method of any ufunc.\n",
        "A reduce repeatedly applies a given operation to the elements of an array until only a single result remains.\n",
        "\n",
        "For example, calling ``reduce`` on the ``add`` ufunc returns the sum of all elements in the array:"
      ],
      "metadata": {
        "id": "IQRLOEyhC7h_"
      }
    },
    {
      "cell_type": "code",
      "source": [
        "x = np.arange(1, 6)\n",
        "np.add.reduce(x)"
      ],
      "metadata": {
        "id": "S-tqV3rWDTQT",
        "outputId": "3cb110d6-3158-4d41-c7e4-bb2973cd53b2",
        "colab": {
          "base_uri": "https://localhost:8080/"
        }
      },
      "execution_count": null,
      "outputs": [
        {
          "output_type": "execute_result",
          "data": {
            "text/plain": [
              "15"
            ]
          },
          "metadata": {},
          "execution_count": 153
        }
      ]
    },
    {
      "cell_type": "code",
      "source": [
        "import numpy as np\n",
        "np.multiply.reduce(x)"
      ],
      "metadata": {
        "id": "eyx37Xz9DUEK",
        "outputId": "820da7bf-88a7-4bb2-b3e3-9549f3fcda91",
        "colab": {
          "base_uri": "https://localhost:8080/"
        }
      },
      "execution_count": null,
      "outputs": [
        {
          "output_type": "execute_result",
          "data": {
            "text/plain": [
              "120"
            ]
          },
          "metadata": {},
          "execution_count": 154
        }
      ]
    },
    {
      "cell_type": "code",
      "source": [
        "#note the difference in output with accumulate\n",
        "np.add.accumulate(x)"
      ],
      "metadata": {
        "id": "clon3tBiDWql",
        "outputId": "47ac29f9-ca94-473e-a1a4-6c65b4188a6c",
        "colab": {
          "base_uri": "https://localhost:8080/"
        }
      },
      "execution_count": null,
      "outputs": [
        {
          "output_type": "execute_result",
          "data": {
            "text/plain": [
              "array([ 1,  3,  6, 10, 15])"
            ]
          },
          "metadata": {},
          "execution_count": 155
        }
      ]
    },
    {
      "cell_type": "markdown",
      "source": [
        "**Answer Following Questions :** (You should either type the answer in separate text cell or code cell as per questoins asked)\n",
        "          \n",
        "\n",
        "\n",
        "1.   What are ufuncs in numpy?\n",
        "\n",
        "       Ans. \n",
        "UFuncs (Universal Functions) in NumPy are functions that operate on ndarrays in an element- wise manner, which means that the operation is applied to each element in the ndarray\n",
        "individually. UFuncs are designed to be fast, and can be used to perform a wide variety of\n",
        "mathematical operations on ndarrays, such as arithmetic, trigonometric, and logarithmic\n",
        "functions, among others. One of the key advantages of UFuncs is that they allow for vectorization of operations, which\n",
        "means that the operations can be applied to entire arrays instead of having to loop over each\n",
        "element in the array individually. This can lead to significant performance improvements, particularly when working with large arrays. Some examples of UFuncs in NumPy include:\n",
        "\n",
        "1.Arithmetic operations (addition, subtraction, multiplication, division, etc.)\n",
        "\n",
        "2.Trigonometric functions (sine, cosine, tangent, etc.)\n",
        "\n",
        "3.Exponential and logarithmic functions (exponential, logarithm, etc.)\n",
        "\n",
        "4.Comparison operators (less than, greater than, equal to, etc.)\n",
        "UFuncs in NumPy are typically implemented in C and compiled with efficient low-level code, making them very fast and efficient. They can be accessed using the standard NumPy syntax, such as np.add(), np.sin(), np.exp(), etc\n",
        "\n",
        "\n"
      ],
      "metadata": {
        "id": "m56WFV4aELVz"
      }
    },
    {
      "cell_type": "markdown",
      "source": [
        "2.  Which are various attributes of numy arrays object?\n",
        "\n",
        "\n",
        "Ans. In NumPy, ndarray is the main object used to represent multi-dimensional arrays. It has many\n",
        "attributes that can be used to get information about the array. Some of the commonly used\n",
        "attributes of ndarray object are:\n",
        "\n",
        "1.ndarray.shape: returns the dimensions of the array as a tuple. For a 1D array of length n, shape would be (n,). For a 2D array with n rows and m columns, shape would be (n, m), and so\n",
        "on. \n",
        "\n",
        "2.ndarray.ndim: returns the number of dimensions of the array. \n",
        "\n",
        "3.ndarray.size: returns the total number of elements in the array. \n",
        "\n",
        "4.ndarray.dtype: returns the data type of the array elements. \n",
        "\n",
        "5.ndarray.itemsize: returns the size of each element in bytes. \n",
        "\n",
        "6.ndarray.nbytes: returns the total number of bytes used by the array data. \n",
        "\n",
        "7.ndarray.T: returns the transpose of the array. ndarray.real: returns the real part of the array (if it has complex elements). \n",
        "\n",
        "8.ndarray.imag: returns the imaginary part of the array (if it has complex elements). \n",
        "\n",
        "9.ndarray.flat: returns an iterator over the array elements in a one-dimensional form. \n",
        "\n",
        "10.ndarray.flags: returns information about the memory layout and other attributes of the array. \n",
        "\n",
        "These are just a few examples of the many attributes available in NumPy ndarray objects. By accessing these attributes, we can obtain various information about the array, such as its shape, size, data type, and more.\n",
        "\n"
      ],
      "metadata": {
        "id": "zgz_iw8pB-xc"
      }
    },
    {
      "cell_type": "markdown",
      "source": [
        "3.   If you have 3 dimentional array in numpy object Obj how to identify its size, type and dimentions ?\n",
        "\n",
        "Ans. To identify the size, data type, and dimensions of a 3-dimensional NumPy array, you can use the following attributes and methods:\n",
        "\n",
        "1.shape: This attribute returns a tuple representing the dimensions of the array. For a 3- dimensional array, the shape will be of the form (n, m, p), where n is the size of the first dimension, m is the size of the second dimension, and p is the size of the third dimension. For example, to get the shape of the array Obj, you can use Obj.shape.\n",
        "\n",
        "2.dtype: This attribute returns the data type of the array. For example, to get the data type of the array Obj, you can use Obj.dtype. \n",
        "\n",
        "3.size: This method returns the total number of elements in the array. For example, to get the size of the array Obj, you can use Obj.size.\n",
        "\n",
        "In below example, we can see that the array Obj has a shape of (2, 2, 2), a data type of int64, and a total of\n",
        "8 elements"
      ],
      "metadata": {
        "id": "6XqqXEFK8d-O"
      }
    },
    {
      "cell_type": "code",
      "source": [
        "import numpy as np\n",
        "# create a 3-dimensional array\n",
        "Obj = np.array([[[1, 2], [3, 4]], [[5, 6], [7, 8]]])\n",
        "# get the shape of the array\n",
        "print(\"Shape:\", Obj.shape)\n",
        "# get the data type of the array\n",
        "print(\"Data type:\", Obj.dtype)\n",
        "# get the total number of elements in the array\n",
        "print(\"Size:\", Obj.size)"
      ],
      "metadata": {
        "colab": {
          "base_uri": "https://localhost:8080/"
        },
        "id": "M5vnmaV_9ftR",
        "outputId": "057de326-aaa0-40e3-ecd5-f627ba4362e8"
      },
      "execution_count": null,
      "outputs": [
        {
          "output_type": "stream",
          "name": "stdout",
          "text": [
            "Shape: (2, 2, 2)\n",
            "Data type: int64\n",
            "Size: 8\n"
          ]
        }
      ]
    },
    {
      "cell_type": "markdown",
      "source": [
        "4. Consider Obj object has dimentions 3*4*2  and you want to convert it to 4*6 shape exlpain how will you do it ? Show this using a code cell, taking an example of 3*4*2 np array of random int between 1 and 50. \n",
        "\n",
        "Ans. To convert an array of shape (342,) to shape (46,), we need to reshape the array while ensuring that all the elements in the original array are preserved. We can do this using the reshape method of numpy. \n",
        "\n",
        "Here's an example code that demonstrates how to reshape a random integer numpy array of shape (34, 2) with values between 1 and 50 "
      ],
      "metadata": {
        "id": "oL1FeFvt9v1c"
      }
    },
    {
      "cell_type": "code",
      "source": [
        "import numpy as np\n",
        "# Create a random integer numpy array of shape (34, 2) with values between 1 and 50\n",
        "arr = np.random.randint(1, 50, size=(34, 2))\n",
        "print(\"Original array of shape:\", arr.shape)\n",
        "print(arr)\n",
        "# Reshape the array to shape (46,) while preserving all elements\n",
        "new_shape = (46,)\n",
        "if np.prod(new_shape) == np.prod(arr.shape):\n",
        "   new_arr = arr.reshape(new_shape)\n",
        "   print(\"Reshaped array of shape:\", new_arr.shape)\n",
        "   print(new_arr)\n",
        "else:\n",
        "   print(\"Cannot reshape array to new shape\", new_shape, \"while preserving all elements\")"
      ],
      "metadata": {
        "colab": {
          "base_uri": "https://localhost:8080/"
        },
        "id": "XOOfA91A-LzR",
        "outputId": "d54e5c59-c1d5-44d7-fab4-8c479845d65f"
      },
      "execution_count": null,
      "outputs": [
        {
          "output_type": "stream",
          "name": "stdout",
          "text": [
            "Original array of shape: (34, 2)\n",
            "[[35 13]\n",
            " [41 29]\n",
            " [11 41]\n",
            " [38 10]\n",
            " [10 23]\n",
            " [ 4 29]\n",
            " [41 15]\n",
            " [36 29]\n",
            " [ 5 20]\n",
            " [19 29]\n",
            " [15 20]\n",
            " [20  9]\n",
            " [32 26]\n",
            " [ 4 43]\n",
            " [29 28]\n",
            " [11  8]\n",
            " [18 47]\n",
            " [ 8 19]\n",
            " [ 8 40]\n",
            " [33 25]\n",
            " [49 30]\n",
            " [ 5 32]\n",
            " [45 45]\n",
            " [29 37]\n",
            " [45 43]\n",
            " [46 30]\n",
            " [45 23]\n",
            " [12 35]\n",
            " [12  6]\n",
            " [ 9 34]\n",
            " [48 18]\n",
            " [21 11]\n",
            " [49 26]\n",
            " [ 5  7]]\n",
            "Cannot reshape array to new shape (46,) while preserving all elements\n"
          ]
        }
      ]
    },
    {
      "cell_type": "markdown",
      "source": [
        "The np.prod() function is used to calculate the product of all the elements in the original and new shape to check if they have the same number of elements. If the shapes are compatible, then we can use the reshape function to obtain the new shape. \n",
        "\n",
        "Note that we need to make sure that the new shape is compatible with the original shape, meaning that the number of elements in both shapes is the same. Otherwise, the reshape function will raise a ValueError exception."
      ],
      "metadata": {
        "id": "4yj2ZDUx-1zS"
      }
    },
    {
      "cell_type": "markdown",
      "source": [
        "5. Consider above 4*6 array, sample 2*3 sub array from left bottom of this array store the result in varible subObj variable"
      ],
      "metadata": {
        "id": "2rJrxBZH_Liv"
      }
    },
    {
      "cell_type": "code",
      "source": [
        "import numpy as np\n",
        "\n",
        "# Create a 4x6 array\n",
        "my_array = np.array([[1, 2, 3, 4, 5, 6],\n",
        "                     [7, 8, 9, 10, 11, 12],\n",
        "                     [13, 14, 15, 16, 17, 18],\n",
        "                     [19, 20, 21, 22, 23, 24]])\n",
        "\n",
        "# Extract a 2x3 subarray from the left bottom corner\n",
        "subObj = my_array[2:, :3]\n",
        "\n",
        "print(subObj)"
      ],
      "metadata": {
        "colab": {
          "base_uri": "https://localhost:8080/"
        },
        "id": "kdvdB4YsAfR4",
        "outputId": "62d3a26a-a62f-49a5-ecc9-00998ea2bf45"
      },
      "execution_count": null,
      "outputs": [
        {
          "output_type": "stream",
          "name": "stdout",
          "text": [
            "[[13 14 15]\n",
            " [19 20 21]]\n"
          ]
        }
      ]
    },
    {
      "cell_type": "markdown",
      "source": [
        "**Conclusion** : Thus we have learned basics of Numpy library for storing and efficiently processing any external data into python execution pipeline."
      ],
      "metadata": {
        "id": "D7Wl-HUU_RMh"
      }
    }
  ]
}